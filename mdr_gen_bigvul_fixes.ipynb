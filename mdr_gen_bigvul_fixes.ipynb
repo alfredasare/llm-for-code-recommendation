{
 "cells": [
  {
   "cell_type": "code",
   "execution_count": null,
   "metadata": {},
   "outputs": [],
   "source": [
    "import pandas as pd\n",
    "from tqdm import tqdm"
   ]
  },
  {
   "cell_type": "code",
   "execution_count": null,
   "metadata": {},
   "outputs": [],
   "source": [
    "df = pd.read_csv('./mdr-gpt4o_bigvul_recommendations_progress.csv')"
   ]
  },
  {
   "cell_type": "code",
   "execution_count": null,
   "metadata": {},
   "outputs": [],
   "source": [
    "len(df)"
   ]
  },
  {
   "cell_type": "code",
   "execution_count": null,
   "metadata": {},
   "outputs": [],
   "source": [
    "df.info()"
   ]
  },
  {
   "cell_type": "markdown",
   "metadata": {},
   "source": [
    "# Load model"
   ]
  },
  {
   "cell_type": "code",
   "execution_count": null,
   "metadata": {},
   "outputs": [],
   "source": [
    "from langchain_openai import ChatOpenAI\n",
    "\n",
    "llm = ChatOpenAI(\n",
    "    model=\"gpt-4o-mini\",\n",
    "    temperature=0,\n",
    "    max_tokens=16384,\n",
    "    timeout=None,\n",
    "    max_retries=2\n",
    ")"
   ]
  },
  {
   "cell_type": "markdown",
   "metadata": {},
   "source": [
    "# Template"
   ]
  },
  {
   "cell_type": "code",
   "execution_count": null,
   "metadata": {},
   "outputs": [],
   "source": [
    "from langchain.prompts import ChatPromptTemplate\n",
    "\n",
    "messages = [\n",
    "    (\"system\", \"You are a software engineer and security expert who specializes in generating fixes for vulnerable code affected by different CWEs and CVEs.\"),\n",
    "    (\"human\", \"\"\"\n",
    "        # CONTEXT #\n",
    "        You are a software engineer and security expert who specializes in generating fixes for vulnerable code affected by different CWEs and CVEs.\n",
    "        \n",
    "        # OBJECTIVE #\n",
    "        Generate a fix for the given vulnerable code based on the provided context.\n",
    "        \n",
    "        # STYLE #\n",
    "        Provide the fixed code snippet only, following best practices for secure and efficient coding.\n",
    "        \n",
    "        # TONE #\n",
    "        Professional and technical.\n",
    "        \n",
    "        # AUDIENCE #\n",
    "        Software engineers and security experts.\n",
    "        \n",
    "        # RESPONSE FORMAT #\n",
    "        The response should be a single corrected code snippet without any additional explanations or comments.\n",
    "        \n",
    "        # PROMPT #\n",
    "        Based on the following vulnerable code and the given recommendation, generate a fixed version of the code:\n",
    "        {context}\n",
    "    \"\"\"),\n",
    "]\n",
    "\n",
    "prompt_template = ChatPromptTemplate.from_messages(messages)"
   ]
  },
  {
   "cell_type": "markdown",
   "metadata": {},
   "source": [
    "# Response"
   ]
  },
  {
   "cell_type": "code",
   "execution_count": null,
   "metadata": {},
   "outputs": [],
   "source": [
    "def generate_fix_recommendation(code_before, recommendation, cve, cwe):\n",
    "    combined_context = f\"\"\"\n",
    "        Vulnerable code:\n",
    "        CWE: {cwe}\n",
    "        CVE: {cve}\n",
    "\n",
    "        Code:\n",
    "        {code_before}\n",
    "\n",
    "        Recommendation:\n",
    "        {recommendation}\n",
    "    \"\"\"\n",
    "\n",
    "    # result = chain.run([combined_context], memory=None)\n",
    "\n",
    "    prompt = prompt_template.invoke({\"context\": combined_context})\n",
    "    result = llm.invoke(prompt)\n",
    "\n",
    "    return result.content\n",
    "        "
   ]
  },
  {
   "cell_type": "markdown",
   "metadata": {},
   "source": [
    "# Load progress"
   ]
  },
  {
   "cell_type": "code",
   "execution_count": null,
   "metadata": {},
   "outputs": [],
   "source": [
    "import os\n",
    "\n",
    "progress_file = 'gpt4o_bigvul_fixes.csv'\n",
    "if os.path.exists(progress_file):\n",
    "    results_df = pd.read_csv(progress_file)\n",
    "    processed_ids = set(results_df['cve'].astype(str) + \"_\" + results_df['cwe'].astype(str))\n",
    "    results = results_df.to_dict('records')\n",
    "else:\n",
    "    results = []\n",
    "    processed_ids = set()"
   ]
  },
  {
   "cell_type": "code",
   "execution_count": null,
   "metadata": {},
   "outputs": [],
   "source": [
    "for index, row in tqdm(df.iterrows(), total=df.shape[0], desc=\"Processing\"):\n",
    "    current_id = f\"{row['cve']}_{row['cwe']}\"\n",
    "\n",
    "    # Skip already processed examples\n",
    "    if current_id in processed_ids:\n",
    "        # print(f\"Skipped {current_id}\")\n",
    "        continue\n",
    "\n",
    "    print(f\"Running for {current_id}\")\n",
    "\n",
    "    code_before = row['func_before']\n",
    "\n",
    "    # if len(func_before) > 22000:\n",
    "    #     func_before = row['func_before'][:22000]\n",
    "    \n",
    "    # Generate fixes\n",
    "    fix = generate_fix_recommendation(code_before, row['recommendation'], row['cve'], row['cwe'])\n",
    "\n",
    "    # Store the results\n",
    "    results.append({\n",
    "        'cve': row['cve'],\n",
    "        'cwe': row['cwe'],\n",
    "        'func_before': row['func_before'],\n",
    "        'filename': row['filename'],\n",
    "        'recommendation': row['recommendation'],\n",
    "        'fix': fix,\n",
    "    })\n",
    "\n",
    "    # Save progress every 10 examples\n",
    "    if index % 1 == 0:\n",
    "        results_df = pd.DataFrame(results)\n",
    "        results_df.to_csv(progress_file, index=False)"
   ]
  }
 ],
 "metadata": {
  "kernelspec": {
   "display_name": "venv",
   "language": "python",
   "name": "python3"
  },
  "language_info": {
   "codemirror_mode": {
    "name": "ipython",
    "version": 3
   },
   "file_extension": ".py",
   "mimetype": "text/x-python",
   "name": "python",
   "nbconvert_exporter": "python",
   "pygments_lexer": "ipython3",
   "version": "3.10.12"
  }
 },
 "nbformat": 4,
 "nbformat_minor": 2
}
