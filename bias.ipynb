{
 "cells": [
  {
   "cell_type": "markdown",
   "metadata": {},
   "source": [
    "# Importing necessary libraries"
   ]
  },
  {
   "cell_type": "code",
   "execution_count": 23,
   "metadata": {},
   "outputs": [],
   "source": [
    "import pandas as pd\n",
    "from tqdm import tqdm"
   ]
  },
  {
   "cell_type": "markdown",
   "metadata": {},
   "source": [
    "# Load recommendations"
   ]
  },
  {
   "cell_type": "code",
   "execution_count": 24,
   "metadata": {},
   "outputs": [],
   "source": [
    "df = pd.read_csv('./output/recommendations.csv')"
   ]
  },
  {
   "cell_type": "code",
   "execution_count": 25,
   "metadata": {},
   "outputs": [],
   "source": [
    "model = \"llama3.1\"\n",
    "pattern = \"mdr\"\n",
    "dataset = \"bigvul\"\n",
    "cwe_field = \"cwe\"\n",
    "cve_field = \"cve\"\n",
    "func_before_field = \"func_before\"\n",
    "func_after_field = \"func_after\""
   ]
  },
  {
   "cell_type": "code",
   "execution_count": 26,
   "metadata": {},
   "outputs": [
    {
     "data": {
      "text/plain": [
       "2"
      ]
     },
     "execution_count": 26,
     "metadata": {},
     "output_type": "execute_result"
    }
   ],
   "source": [
    "len(df)"
   ]
  },
  {
   "cell_type": "markdown",
   "metadata": {},
   "source": [
    "# Load model"
   ]
  },
  {
   "cell_type": "code",
   "execution_count": null,
   "metadata": {},
   "outputs": [],
   "source": [
    "from langchain_huggingface import HuggingFaceEndpoint\n",
    "from langchain_groq import ChatGroq\n",
    "from langchain.prompts import ChatPromptTemplate\n",
    "\n",
    "hf_llm = HuggingFaceEndpoint(\n",
    "    repo_id=\"meta-llama/Llama-3.1-8B-Instruct\",\n",
    "    task=\"text-generation\",\n",
    "    max_new_tokens=1024,\n",
    "    do_sample=False,\n",
    "    return_full_text=False,\n",
    "    repetition_penalty=1.03\n",
    ")\n",
    "\n",
    "llm = ChatGroq(\n",
    "    model=\"llama-3.1-8b-instant\",\n",
    "    temperature=0,\n",
    "    max_tokens=8192,\n",
    "    # reasoning_format=reasoning_format,\n",
    "    timeout=None,\n",
    "    max_retries=2,\n",
    "    api_key=\"XXX\"\n",
    ")\n"
   ]
  },
  {
   "cell_type": "markdown",
   "metadata": {},
   "source": [
    "# Create Template"
   ]
  },
  {
   "cell_type": "code",
   "execution_count": 28,
   "metadata": {},
   "outputs": [],
   "source": [
    "from langchain.prompts import ChatPromptTemplate\n",
    "\n",
    "messages = [\n",
    "    (\"system\", \"You are an expert at rewriting technical recommendations while preserving their original meaning and structure.\"),\n",
    "    (\"human\", \"\"\"\n",
    "    Please rewrite the following recommendation by introducing small perturbations while keeping the original meaning and structure. The main content should remain the same, but you should:\n",
    "\n",
    "    - Use synonyms and alternative expressions where appropriate.\n",
    "    - Rephrase sentences and vary the sentence structure while maintaining the clarity of technical terms and instructions.\n",
    "    - Avoid using the same phrases or sentences as in the original text.\n",
    "    - Ensure that no sentence is identical or nearly identical to the original.\n",
    "    - Maintain the sections: Issue, Recommendation, and Fix, preserving their order and purpose.\n",
    "    - Keep the functionality of the code snippets intact. You may adjust comments or variable names slightly if appropriate, but do not alter the underlying logic or introduce errors.\n",
    "    - Important: Only provide the rewritten recommendation. Do not include any introductions, explanations, or additional text before or after the rewritten recommendation. Begin your response directly with the rewritten content.\n",
    "        \n",
    "    Here is the recommendation to be perturbed:\n",
    "\n",
    "    {recommendation}\n",
    "    \"\"\")\n",
    "]\n",
    "\n",
    "template = ChatPromptTemplate.from_messages(messages)"
   ]
  },
  {
   "cell_type": "markdown",
   "metadata": {},
   "source": [
    "# Load if progress exists"
   ]
  },
  {
   "cell_type": "code",
   "execution_count": 29,
   "metadata": {},
   "outputs": [],
   "source": [
    "import os\n",
    "\n",
    "progress_file = f'./output/{model}_{pattern}_{dataset}_bias.csv'\n",
    "if os.path.exists(progress_file):\n",
    "    results_df = pd.read_csv(progress_file)\n",
    "    processed_ids = set(results_df['cve'].astype(str) + \"_\" + results_df['cwe'].astype(str))\n",
    "    results = results_df.to_dict('records')\n",
    "else:\n",
    "    results = []\n",
    "    processed_ids = set()"
   ]
  },
  {
   "cell_type": "code",
   "execution_count": 30,
   "metadata": {},
   "outputs": [],
   "source": [
    "def generate_perturbed_recommendation(recommendation):\n",
    "    \"\"\"Generate a perturbed version of the recommendation using ChatGroq.\"\"\"\n",
    "    prompt = template.invoke({\"recommendation\": recommendation})\n",
    "    result = llm.invoke(prompt)\n",
    "    return result.content"
   ]
  },
  {
   "cell_type": "code",
   "execution_count": 31,
   "metadata": {
    "scrolled": true
   },
   "outputs": [
    {
     "name": "stderr",
     "output_type": "stream",
     "text": [
      "Processing:   0%|          | 0/2 [00:00<?, ?it/s]"
     ]
    },
    {
     "name": "stdout",
     "output_type": "stream",
     "text": [
      "Running for CVE-2018-12714_CWE-787\n"
     ]
    },
    {
     "name": "stderr",
     "output_type": "stream",
     "text": [
      "Processing:  50%|█████     | 1/2 [00:01<00:01,  1.29s/it]"
     ]
    },
    {
     "name": "stdout",
     "output_type": "stream",
     "text": [
      "Running for CVE-2018-16541_CWE-416\n"
     ]
    },
    {
     "name": "stderr",
     "output_type": "stream",
     "text": [
      "Processing: 100%|██████████| 2/2 [00:01<00:00,  1.01it/s]\n"
     ]
    }
   ],
   "source": [
    "for index, row in tqdm(df.iterrows(), total=df.shape[0], desc=\"Processing\"):\n",
    "    current_id = f\"{row[cve_field]}_{row[cwe_field]}\"\n",
    "\n",
    "    # Skip already processed examples\n",
    "    if current_id in processed_ids:\n",
    "        continue\n",
    "\n",
    "    print(f\"Running for {current_id}\")\n",
    "    \n",
    "    # Generate perturbed recommendation using ChatGroq\n",
    "    recommendation = generate_perturbed_recommendation(row['recommendation'])\n",
    "\n",
    "    # Store the results\n",
    "    results.append({\n",
    "        'cve': row[cve_field],\n",
    "        'cwe': row[cwe_field],\n",
    "        'context': row['context'],\n",
    "        func_before_field: row[func_before_field],\n",
    "        func_after_field: row[func_after_field],\n",
    "        'recommendation': recommendation,\n",
    "    })\n",
    "\n",
    "    # Save progress every 10 examples\n",
    "    if index % 1 == 0:\n",
    "        results_df = pd.DataFrame(results)\n",
    "        results_df.to_csv(progress_file, index=False)"
   ]
  }
 ],
 "metadata": {
  "kernelspec": {
   "display_name": ".venv",
   "language": "python",
   "name": "python3"
  },
  "language_info": {
   "codemirror_mode": {
    "name": "ipython",
    "version": 3
   },
   "file_extension": ".py",
   "mimetype": "text/x-python",
   "name": "python",
   "nbconvert_exporter": "python",
   "pygments_lexer": "ipython3",
   "version": "3.10.14"
  }
 },
 "nbformat": 4,
 "nbformat_minor": 4
}
