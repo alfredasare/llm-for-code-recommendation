{
 "cells": [
  {
   "cell_type": "code",
   "execution_count": null,
   "id": "383e1407-1753-46ad-a7d7-545453c85ed7",
   "metadata": {
    "scrolled": true
   },
   "outputs": [],
   "source": [
    "!pip install git+https://github.com/k4black/codebleu.git\n",
    "!pip install tree-sitter-python\n",
    "!pip install codebleu[all]"
   ]
  },
  {
   "cell_type": "code",
   "execution_count": null,
   "id": "d40f4f35-42a6-4739-93f7-c874d384f275",
   "metadata": {},
   "outputs": [],
   "source": [
    "from codebleu import calc_codebleu\n",
    "import pandas as pd"
   ]
  },
  {
   "cell_type": "code",
   "execution_count": null,
   "id": "c2e06f17-75bc-43a4-b4fb-356da6995201",
   "metadata": {},
   "outputs": [],
   "source": [
    "# Load the CSV file\n",
    "responses_df = pd.read_csv('./gpt/gpt4o_bigvul_fixes.csv')"
   ]
  },
  {
   "cell_type": "code",
   "execution_count": null,
   "id": "7a905dcb-bf6b-4a43-96e9-914d6cf43412",
   "metadata": {},
   "outputs": [],
   "source": [
    "# Check for non-string data and handle them\n",
    "responses_df['code_after'] = responses_df['code_after'].fillna('').astype(str)\n",
    "responses_df['fix'] = responses_df['fix'].fillna('').astype(str)"
   ]
  },
  {
   "cell_type": "code",
   "execution_count": null,
   "id": "14f94aef-a7e0-4d48-9078-8aad85633c6d",
   "metadata": {},
   "outputs": [],
   "source": [
    "references = responses_df['code_after'].to_list()\n",
    "predictions = responses_df['fix'].to_list()"
   ]
  },
  {
   "cell_type": "code",
   "execution_count": null,
   "id": "b37a8067-c740-4cfc-9d82-87a66ff00149",
   "metadata": {},
   "outputs": [],
   "source": [
    "len(references)"
   ]
  },
  {
   "cell_type": "code",
   "execution_count": null,
   "id": "bc080ed4-0039-4227-92e8-b7e7082ae7e2",
   "metadata": {},
   "outputs": [],
   "source": [
    "len(predictions)"
   ]
  },
  {
   "cell_type": "code",
   "execution_count": null,
   "id": "18379743-0345-4698-80c3-37dc718995c9",
   "metadata": {},
   "outputs": [],
   "source": [
    "result = calc_codebleu(references, predictions, lang=\"c\", tokenizer=None)\n",
    "print(result)"
   ]
  },
  {
   "cell_type": "code",
   "execution_count": null,
   "id": "4e008d0d-1570-447a-a0a5-93d944e985c9",
   "metadata": {},
   "outputs": [],
   "source": [
    "from codegen_metrics import ruby"
   ]
  },
  {
   "cell_type": "code",
   "execution_count": null,
   "id": "0f57e94f-bd1d-40d2-a7d0-568b443c23ad",
   "metadata": {},
   "outputs": [],
   "source": [
    "metrics = [ruby]"
   ]
  },
  {
   "cell_type": "code",
   "execution_count": null,
   "id": "cbc2fec7-763e-4645-a7bf-06cfb3f9f47b",
   "metadata": {},
   "outputs": [],
   "source": [
    "metric_scores = {metric.__name__: [] for metric in metrics}\n",
    "\n",
    "# Iterate over each reference and prediction pair\n",
    "for ref, pred in zip(references, predictions):\n",
    "    for metric in metrics:\n",
    "        score = metric(ref, pred)\n",
    "        metric_scores[metric.__name__].append(score)\n",
    "\n",
    "# Compute the average score for each metric\n",
    "average_scores = {metric: sum(scores) / len(scores) for metric, scores in metric_scores.items()}\n",
    "\n",
    "# Print the average scores\n",
    "for metric, avg_score in average_scores.items():\n",
    "    print(f\"{metric}: {avg_score}\")"
   ]
  },
  {
   "cell_type": "code",
   "execution_count": null,
   "id": "09cfc40f-e851-4d24-a771-d8adc4576a26",
   "metadata": {},
   "outputs": [],
   "source": [
    "chrf = load(\"chrf\")"
   ]
  },
  {
   "cell_type": "code",
   "execution_count": null,
   "id": "ebc822e4-1f00-4535-aaf9-959afc803162",
   "metadata": {},
   "outputs": [],
   "source": [
    "results = chrf.compute(predictions=predictions,references=references)"
   ]
  },
  {
   "cell_type": "code",
   "execution_count": null,
   "id": "250bb27a-36f5-47d1-98fb-fdc0088fab41",
   "metadata": {},
   "outputs": [],
   "source": [
    "results"
   ]
  }
 ],
 "metadata": {
  "kernelspec": {
   "display_name": "Python 3 (ipykernel)",
   "language": "python",
   "name": "python3"
  },
  "language_info": {
   "codemirror_mode": {
    "name": "ipython",
    "version": 3
   },
   "file_extension": ".py",
   "mimetype": "text/x-python",
   "name": "python",
   "nbconvert_exporter": "python",
   "pygments_lexer": "ipython3",
   "version": "3.10.12"
  }
 },
 "nbformat": 4,
 "nbformat_minor": 5
}
